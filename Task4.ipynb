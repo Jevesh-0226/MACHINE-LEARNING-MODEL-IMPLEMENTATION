import pandas as pd
import numpy as np
from sklearn.model_selection import train_test_split
from sklearn.feature_extraction.text import CountVectorizer
from sklearn.naive_bayes import MultinomialNB
from sklearn.metrics import accuracy_score, classification_report


df = pd.read_csv("spam.csv", encoding='latin-1')
df = df[['v1', 'v2']]               # Keep only label and message columns
df.columns = ['label', 'message']   # Rename columns

df['label_num'] = df.label.map({'ham': 0, 'spam': 1})

vectorizer = CountVectorizer()
X = vectorizer.fit_transform(df['message'])  # Features
y = df['label_num']                          # Target


X_train, X_test, y_train, y_test = train_test_split(X, y, test_size=0.2, random_state=42)


model = MultinomialNB()
model.fit(X_train, y_train)


y_pred = model.predict(X_test)


print("✅ Accuracy Score:", accuracy_score(y_test, y_pred))
print("\n📊 Classification Report:\n")
print(classification_report(y_test, y_pred))


def predict_message(message):
    data = vectorizer.transform([message])
    prediction = model.predict(data)
    return "Spam" if prediction[0] else "Ham"


print("\n💬 Prediction Example:")
print("Message: 'Congratulations! You won a free ticket to Bahamas'")
print("Prediction:", predict_message("Congratulations! You won a free ticket to Bahamas"))
